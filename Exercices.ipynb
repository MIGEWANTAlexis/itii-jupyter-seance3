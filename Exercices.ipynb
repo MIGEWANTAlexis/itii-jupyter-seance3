{
 "cells": [
  {
   "cell_type": "code",
   "execution_count": 85,
   "metadata": {},
   "outputs": [
    {
     "name": "stdout",
     "output_type": "stream",
     "text": [
      "0.0002992324298247695\n"
     ]
    }
   ],
   "source": [
    "def f(x):\n",
    "    return x**3+2*x-2\n",
    "\n",
    "def racine(N):\n",
    "    import numpy as np\n",
    "    intervalle = [0,0.5,1]\n",
    "    compteur = 0\n",
    "    \n",
    "    while compteur < N:\n",
    "        if f(intervalle[0])*f(intervalle[1]) < 0:\n",
    "            intervalle = [intervalle[0], (intervalle[0] + intervalle[1])/2, intervalle[1]]\n",
    "        else:\n",
    "            intervalle = [intervalle[1], (intervalle[1] + intervalle[2])/2, intervalle[2]]\n",
    "        compteur += 1\n",
    "    return intervalle[1]\n",
    "\n",
    "x = racine(10)\n",
    "print(f(x))"
   ]
  },
  {
   "cell_type": "code",
   "execution_count": 88,
   "metadata": {},
   "outputs": [
    {
     "name": "stdout",
     "output_type": "stream",
     "text": [
      "[[2 7 6]\n",
      " [9 5 1]\n",
      " [4 3 8]]\n",
      "[[ 1  2  3  4]\n",
      " [ 5  6  7  8]\n",
      " [ 9 10 11 12]\n",
      " [13 14 15 16]]\n"
     ]
    }
   ],
   "source": [
    "import numpy as np\n",
    "\n",
    "carre_de_3 = np.array([2,7,6,9,5,1,4,3,8]).reshape(3,3)\n",
    "print(carre_de_3)\n",
    "\n",
    "carre_de_4 = np.array([[1,2,3,4], [5,6,7,8], [9,10,11,12], [13,14,15,16]])\n",
    "print(carre_de_4)\n",
    "\n",
    "def magique(carre):\n",
    "    n = len(carre)\n",
    "    Sn = (n*(n**2+1))/2\n",
    "    \n",
    "    somme_lignes = carre.sum(axis=1)\n",
    "    print(somme_lignes)\n",
    "    somme_colonnes = carre.sum(axis=0)\n",
    "    somme_diag = carre.trace()\n",
    "    somm"
   ]
  },
  {
   "cell_type": "code",
   "execution_count": null,
   "metadata": {},
   "outputs": [],
   "source": []
  },
  {
   "cell_type": "code",
   "execution_count": null,
   "metadata": {},
   "outputs": [],
   "source": []
  },
  {
   "cell_type": "code",
   "execution_count": null,
   "metadata": {},
   "outputs": [],
   "source": []
  }
 ],
 "metadata": {
  "kernelspec": {
   "display_name": "Python 3",
   "language": "python",
   "name": "python3"
  },
  "language_info": {
   "codemirror_mode": {
    "name": "ipython",
    "version": 3
   },
   "file_extension": ".py",
   "mimetype": "text/x-python",
   "name": "python",
   "nbconvert_exporter": "python",
   "pygments_lexer": "ipython3",
   "version": "3.7.6"
  }
 },
 "nbformat": 4,
 "nbformat_minor": 4
}
